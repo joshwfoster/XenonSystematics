{
 "cells": [
  {
   "cell_type": "code",
   "execution_count": 1,
   "metadata": {},
   "outputs": [],
   "source": [
    "import numpy as np\n",
    "import h5py\n",
    "import matplotlib as mpl\n",
    "import matplotlib.pyplot as plt\n",
    "\n",
    "from scipy.interpolate import interp1d\n",
    "\n",
    "from iminuit import Minuit\n",
    "from scipy import stats\n",
    "\n",
    "from astropy.stats import poisson_conf_interval"
   ]
  },
  {
   "cell_type": "code",
   "execution_count": 2,
   "metadata": {},
   "outputs": [],
   "source": [
    "exposure = .658 # ton-years"
   ]
  },
  {
   "cell_type": "markdown",
   "metadata": {},
   "source": [
    "# Load the Data\n",
    "\n",
    "Loading the data is performed in this utility method"
   ]
  },
  {
   "cell_type": "code",
   "execution_count": 3,
   "metadata": {},
   "outputs": [],
   "source": [
    "def load():\n",
    "    global energies, abc_ens, abc_flux, bkg_ens, bkg_flux\n",
    "    \n",
    "    \n",
    "    data_archive = h5py.File('../Data/UnbinnedEvents.h5', 'r')\n",
    "\n",
    "    cS1 = np.array(data_archive['cS1'])\n",
    "    cS2 = np.array(data_archive['cS2'])\n",
    "\n",
    "    data_archive.close()\n",
    "\n",
    "    energies = (cS1 / .142 + cS2 / 11.4) * 13.8 / 1e3\n",
    "    \n",
    "    model_archive = h5py.File('../Data/ModelArchive.h5', 'r')\n",
    "\n",
    "    abc_ens, abc_flux = np.array(model_archive['ABC_Model'])\n",
    "    bkg_ens, bkg_flux = np.array(model_archive['Background_30keV'])\n",
    "\n",
    "    model_archive.close()"
   ]
  },
  {
   "cell_type": "markdown",
   "metadata": {},
   "source": [
    "# Set An Analysis Range and Construct PDFs"
   ]
  },
  {
   "cell_type": "code",
   "execution_count": 4,
   "metadata": {},
   "outputs": [],
   "source": [
    "load()\n",
    "\n",
    "emin = 1. # keV\n",
    "emax = 9. # keV\n",
    "\n",
    "energies = np.sort(energies[np.where(np.logical_and(energies >= emin, energies <= emax))])\n",
    "\n",
    "interp_energies = np.linspace(emin, emax, int(1e6))\n",
    "\n",
    "abc_interp = np.interp(interp_energies, abc_ens, abc_flux)\n",
    "abc_interp_norm = abc_interp / np.trapz(abc_interp, interp_energies)\n",
    "\n",
    "abc_pdf = interp1d(interp_energies, abc_interp_norm)\n",
    "\n",
    "bkg_interp = np.interp(interp_energies, bkg_ens, bkg_flux)\n",
    "bkg_interp_norm = bkg_interp / np.trapz(bkg_interp, interp_energies)\n",
    "\n",
    "bkg_pdf = interp1d(interp_energies, bkg_interp_norm)\n",
    "bkg_cts = np.trapz(bkg_interp, interp_energies)*exposure"
   ]
  },
  {
   "cell_type": "markdown",
   "metadata": {},
   "source": [
    "# Construct and Maximize the Unbinned Likelihood"
   ]
  },
  {
   "cell_type": "code",
   "execution_count": 5,
   "metadata": {},
   "outputs": [],
   "source": [
    "def NegLL(sig_cts):\n",
    "    bkg_pdf_vals = bkg_pdf(energies)\n",
    "    sig_pdf_vals = abc_pdf(energies)\n",
    "    \n",
    "    total_cts = sig_cts + bkg_cts\n",
    "    \n",
    "    probs = (bkg_cts / total_cts * bkg_pdf_vals + sig_cts / total_cts * sig_pdf_vals) \n",
    "    LL = np.sum(np.log(probs))+stats.poisson.logpmf(len(energies), total_cts)\n",
    "\n",
    "    return -LL"
   ]
  },
  {
   "cell_type": "code",
   "execution_count": 6,
   "metadata": {},
   "outputs": [
    {
     "data": {
      "text/html": [
       "<table>\n",
       "<tr>\n",
       "<td colspan=\"2\" title=\"Minimum value of function\">\n",
       "FCN = -11.94\n",
       "</td>\n",
       "<td align=\"center\" colspan=\"3\" title=\"No. of calls in last algorithm and total number of calls\">\n",
       "Ncalls = 51 (51 total)\n",
       "</td>\n",
       "</tr>\n",
       "<tr>\n",
       "<td colspan=\"2\" title=\"Estimated distance to minimum and target threshold\">\n",
       "EDM = 2.94E-09 (Goal: 0.0002)\n",
       "</td>\n",
       "<td align=\"center\" colspan=\"3\" title=\"Increase in FCN which corresponds to 1 standard deviation\">\n",
       "up = 1.0\n",
       "</td>\n",
       "</tr>\n",
       "<tr>\n",
       "<td align=\"center\" title=\"Validity of the migrad call\">\n",
       "Valid Min.\n",
       "</td>\n",
       "<td align=\"center\" title=\"Validity of parameters\">\n",
       "Valid Param.\n",
       "</td>\n",
       "<td align=\"center\" title=\"Is EDM above goal EDM?\">\n",
       "Above EDM\n",
       "</td>\n",
       "<td align=\"center\" colspan=\"2\" title=\"Did last migrad call reach max call limit?\">\n",
       "Reached call limit\n",
       "</td>\n",
       "</tr>\n",
       "<tr>\n",
       "<td align=\"center\" style=\"background-color:#92CCA6;\">\n",
       "True\n",
       "</td>\n",
       "<td align=\"center\" style=\"background-color:#92CCA6;\">\n",
       "True\n",
       "</td>\n",
       "<td align=\"center\" style=\"background-color:#92CCA6;\">\n",
       "False\n",
       "</td>\n",
       "<td align=\"center\" colspan=\"2\" style=\"background-color:#92CCA6;\">\n",
       "False\n",
       "</td>\n",
       "</tr>\n",
       "<tr>\n",
       "<td align=\"center\" title=\"Did Hesse fail?\">\n",
       "Hesse failed\n",
       "</td>\n",
       "<td align=\"center\" title=\"Has covariance matrix\">\n",
       "Has cov.\n",
       "</td>\n",
       "<td align=\"center\" title=\"Is covariance matrix accurate?\">\n",
       "Accurate\n",
       "</td>\n",
       "<td align=\"center\" title=\"Is covariance matrix positive definite?\">\n",
       "Pos. def.\n",
       "</td>\n",
       "<td align=\"center\" title=\"Was positive definiteness enforced by Minuit?\">\n",
       "Forced\n",
       "</td>\n",
       "</tr>\n",
       "<tr>\n",
       "<td align=\"center\" style=\"background-color:#92CCA6;\">\n",
       "False\n",
       "</td>\n",
       "<td align=\"center\" style=\"background-color:#92CCA6;\">\n",
       "True\n",
       "</td>\n",
       "<td align=\"center\" style=\"background-color:#92CCA6;\">\n",
       "True\n",
       "</td>\n",
       "<td align=\"center\" style=\"background-color:#92CCA6;\">\n",
       "True\n",
       "</td>\n",
       "<td align=\"center\" style=\"background-color:#92CCA6;\">\n",
       "False\n",
       "</td>\n",
       "</tr>\n",
       "</table>\n",
       "<table>\n",
       "<tr style=\"background-color:#F4F4F4;\">\n",
       "<td/>\n",
       "<th title=\"Variable name\">\n",
       "Name\n",
       "</th>\n",
       "<th title=\"Value of parameter\">\n",
       "Value\n",
       "</th>\n",
       "<th title=\"Hesse error\">\n",
       "Hesse Error\n",
       "</th>\n",
       "<th title=\"Minos lower error\">\n",
       "Minos Error-\n",
       "</th>\n",
       "<th title=\"Minos upper error\">\n",
       "Minos Error+\n",
       "</th>\n",
       "<th title=\"Lower limit of the parameter\">\n",
       "Limit-\n",
       "</th>\n",
       "<th title=\"Upper limit of the parameter\">\n",
       "Limit+\n",
       "</th>\n",
       "<th title=\"Is the parameter fixed in the fit\">\n",
       "Fixed\n",
       "</th>\n",
       "</tr>\n",
       "<tr style=\"background-color:#FFFFFF;\">\n",
       "<td>\n",
       "0\n",
       "</td>\n",
       "<td>\n",
       "x\n",
       "</td>\n",
       "<td>\n",
       "52\n",
       "</td>\n",
       "<td>\n",
       "17\n",
       "</td>\n",
       "<td>\n",
       "\n",
       "</td>\n",
       "<td>\n",
       "\n",
       "</td>\n",
       "<td>\n",
       "0\n",
       "</td>\n",
       "<td>\n",
       "\n",
       "</td>\n",
       "<td>\n",
       "\n",
       "</td>\n",
       "</tr>\n",
       "</table>\n"
      ],
      "text/plain": [
       "------------------------------------------------------------------\n",
       "| FCN = -11.94                  |      Ncalls=51 (51 total)      |\n",
       "| EDM = 2.94E-09 (Goal: 0.0002) |            up = 1.0            |\n",
       "------------------------------------------------------------------\n",
       "|  Valid Min.   | Valid Param.  | Above EDM | Reached call limit |\n",
       "------------------------------------------------------------------\n",
       "|     True      |     True      |   False   |       False        |\n",
       "------------------------------------------------------------------\n",
       "| Hesse failed  |   Has cov.    | Accurate  | Pos. def. | Forced |\n",
       "------------------------------------------------------------------\n",
       "|     False     |     True      |   True    |   True    | False  |\n",
       "------------------------------------------------------------------\n",
       "------------------------------------------------------------------------------------------\n",
       "|   | Name |   Value   | Hesse Err | Minos Err- | Minos Err+ | Limit-  | Limit+  | Fixed |\n",
       "------------------------------------------------------------------------------------------\n",
       "| 0 | x    |    52     |    17     |            |            |    0    |         |       |\n",
       "------------------------------------------------------------------------------------------"
      ]
     },
     "execution_count": 6,
     "metadata": {},
     "output_type": "execute_result"
    }
   ],
   "source": [
    "m = Minuit(lambda x: 2*(NegLL(x)-NegLL(0)), x = 0, limit_x = [0, None], error_x = 1, errordef = 1e0)\n",
    "m.migrad()"
   ]
  },
  {
   "cell_type": "markdown",
   "metadata": {},
   "source": [
    "# Plot the Fit and Binned Counts"
   ]
  },
  {
   "cell_type": "code",
   "execution_count": 7,
   "metadata": {},
   "outputs": [],
   "source": [
    "counts, edges = np.histogram(energies, bins = np.linspace(emin, emax, 2*round(emax - emin)+1))\n",
    "centers = (edges[1:] + edges[:-1])/2\n",
    "\n",
    "errors = poisson_conf_interval(counts, interval='frequentist-confidence')\n",
    "errors[0] = counts - errors[0]\n",
    "errors[1] = errors[1] - counts"
   ]
  },
  {
   "cell_type": "code",
   "execution_count": 8,
   "metadata": {},
   "outputs": [
    {
     "name": "stderr",
     "output_type": "stream",
     "text": [
      "findfont: Font family ['serif'] not found. Falling back to DejaVu Sans.\n"
     ]
    },
    {
     "data": {
      "image/png": "[encoded data removed]",
      "text/plain": [
       "<Figure size 576x432 with 1 Axes>"
      ]
     },
     "metadata": {},
     "output_type": "display_data"
    }
   ],
   "source": [
    "# Figure size\n",
    "mpl.rcParams['figure.figsize'] = 8, 6\n",
    "\n",
    "\n",
    "plt.errorbar(centers, counts / np.diff(centers)[0]/exposure, yerr = (errors)/exposure,\n",
    "             fmt = 'o', color = 'black', capsize = 3, label = 'Data')\n",
    "\n",
    "plt.plot(interp_energies, bkg_cts*bkg_interp_norm / exposure, c = 'red', lw = '3', label = 'B0')\n",
    "plt.plot(interp_energies, bkg_cts*bkg_interp_norm / exposure + m.values['x']*abc_interp_norm / exposure,\n",
    "          c = 'blue', lw = '3', label = 'B0+ABC')\n",
    "plt.ylabel(r'Events/(t $\\cdot$ y $\\cdot$ keV)')\n",
    "plt.xlabel('Energy [keV]')\n",
    "\n",
    "plt.legend(fontsize = 20, loc = 'lower right', ncol = 1, frameon = False)\n",
    "plt.tight_layout()\n",
    "plt.savefig('../Plots/Fig4.pdf')\n",
    "plt.show()"
   ]
  }
 ],
 "metadata": {
  "kernelspec": {
   "display_name": "Python 3",
   "language": "python",
   "name": "python3"
  },
  "language_info": {
   "codemirror_mode": {
    "name": "ipython",
    "version": 3
   },
   "file_extension": ".py",
   "mimetype": "text/x-python",
   "name": "python",
   "nbconvert_exporter": "python",
   "pygments_lexer": "ipython3",
   "version": "3.6.5"
  }
 },
 "nbformat": 4,
 "nbformat_minor": 2
}
